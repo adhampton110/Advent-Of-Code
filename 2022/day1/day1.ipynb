{
 "cells": [
  {
   "cell_type": "code",
   "execution_count": 1,
   "metadata": {},
   "outputs": [],
   "source": [
    "#Variables\n",
    "cals = []\n",
    "totalCals = 0\n",
    "topSum = 0"
   ]
  },
  {
   "cell_type": "code",
   "execution_count": 2,
   "metadata": {},
   "outputs": [
    {
     "name": "stdout",
     "output_type": "stream",
     "text": [
      "67633\n"
     ]
    }
   ],
   "source": [
    "#Part 1\n",
    "with open(\"input.txt\") as source:\n",
    "    for line in source:\n",
    "        line = line.strip(\"\\n\")\n",
    "        if line != \"\":\n",
    "            totalCals += int(line)\n",
    "        else:\n",
    "            cals.append(totalCals)\n",
    "            totalCals = 0\n",
    "\n",
    "cals.append(totalCals) #append the last elf\n",
    "print(max(cals))"
   ]
  },
  {
   "cell_type": "code",
   "execution_count": 5,
   "metadata": {},
   "outputs": [
    {
     "name": "stdout",
     "output_type": "stream",
     "text": [
      "199628\n"
     ]
    }
   ],
   "source": [
    "#Part 2\n",
    "cals.sort(reverse=True)\n",
    "for i in range(3):\n",
    "    topSum += cals[i]\n",
    "\n",
    "print(topSum)"
   ]
  }
 ],
 "metadata": {
  "interpreter": {
   "hash": "aee8b7b246df8f9039afb4144a1f6fd8d2ca17a180786b69acc140d282b71a49"
  },
  "kernelspec": {
   "display_name": "Python 3.10.5 64-bit",
   "language": "python",
   "name": "python3"
  },
  "language_info": {
   "codemirror_mode": {
    "name": "ipython",
    "version": 3
   },
   "file_extension": ".py",
   "mimetype": "text/x-python",
   "name": "python",
   "nbconvert_exporter": "python",
   "pygments_lexer": "ipython3",
   "version": "3.10.5"
  },
  "orig_nbformat": 4
 },
 "nbformat": 4,
 "nbformat_minor": 2
}
