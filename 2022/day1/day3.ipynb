{
 "cells": [
  {
   "cell_type": "code",
   "execution_count": 1,
   "metadata": {},
   "outputs": [],
   "source": [
    "rucksacks = []\n",
    "with open(\"sample.txt\") as source:\n",
    "    for line in source:\n",
    "        line = line.strip(\"\\n\")\n",
    "        rucksacks.append(line)"
   ]
  },
  {
   "cell_type": "code",
   "execution_count": 2,
   "metadata": {},
   "outputs": [
    {
     "data": {
      "text/plain": [
       "['',\n",
       " '1000',\n",
       " '2000',\n",
       " '3000',\n",
       " '',\n",
       " '4000',\n",
       " '',\n",
       " '5000',\n",
       " '6000',\n",
       " '',\n",
       " '7000',\n",
       " '8000',\n",
       " '9000',\n",
       " '',\n",
       " '10000']"
      ]
     },
     "execution_count": 2,
     "metadata": {},
     "output_type": "execute_result"
    }
   ],
   "source": [
    "rucksacks    "
   ]
  }
 ],
 "metadata": {
  "interpreter": {
   "hash": "1f8579274e1374e76d8f29448d368d65bcd108b23ca98bcaaea9b31c869204d0"
  },
  "kernelspec": {
   "display_name": "Python 3.9.12 ('base')",
   "language": "python",
   "name": "python3"
  },
  "language_info": {
   "codemirror_mode": {
    "name": "ipython",
    "version": 3
   },
   "file_extension": ".py",
   "mimetype": "text/x-python",
   "name": "python",
   "nbconvert_exporter": "python",
   "pygments_lexer": "ipython3",
   "version": "3.10.5"
  },
  "orig_nbformat": 4
 },
 "nbformat": 4,
 "nbformat_minor": 2
}
