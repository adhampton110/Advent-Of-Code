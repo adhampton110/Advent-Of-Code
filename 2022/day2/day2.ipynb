{
 "cells": [
  {
   "cell_type": "markdown",
   "metadata": {},
   "source": []
  },
  {
   "cell_type": "code",
   "execution_count": 5,
   "metadata": {},
   "outputs": [],
   "source": []
  },
  {
   "cell_type": "code",
   "execution_count": 9,
   "metadata": {},
   "outputs": [
    {
     "ename": "NameError",
     "evalue": "name 'line' is not defined",
     "output_type": "error",
     "traceback": [
      "\u001b[0;31m---------------------------------------------------------------------------\u001b[0m",
      "\u001b[0;31mNameError\u001b[0m                                 Traceback (most recent call last)",
      "\u001b[1;32m/Users/adhampton/Desktop/day2.ipynb Cell 3'\u001b[0m in \u001b[0;36m<cell line: 8>\u001b[0;34m()\u001b[0m\n\u001b[1;32m      <a href='vscode-notebook-cell:/Users/adhampton/Desktop/day2.ipynb#ch0000000?line=5'>6</a>\u001b[0m         line \u001b[39m=\u001b[39m line\u001b[39m.\u001b[39msplit()\n\u001b[1;32m      <a href='vscode-notebook-cell:/Users/adhampton/Desktop/day2.ipynb#ch0000000?line=6'>7</a>\u001b[0m         rounds\u001b[39m.\u001b[39mappend(line)\n\u001b[0;32m----> <a href='vscode-notebook-cell:/Users/adhampton/Desktop/day2.ipynb#ch0000000?line=7'>8</a>\u001b[0m rounds\u001b[39m.\u001b[39mappend(line\u001b[39m.\u001b[39msplit())\n\u001b[1;32m     <a href='vscode-notebook-cell:/Users/adhampton/Desktop/day2.ipynb#ch0000000?line=9'>10</a>\u001b[0m \u001b[39mfor\u001b[39;00m match \u001b[39min\u001b[39;00m rounds:\n\u001b[1;32m     <a href='vscode-notebook-cell:/Users/adhampton/Desktop/day2.ipynb#ch0000000?line=10'>11</a>\u001b[0m     \u001b[39mif\u001b[39;00m match[\u001b[39m1\u001b[39m] \u001b[39m==\u001b[39m \u001b[39m\"\u001b[39m\u001b[39mX\u001b[39m\u001b[39m\"\u001b[39m:\n",
      "\u001b[0;31mNameError\u001b[0m: name 'line' is not defined"
     ]
    }
   ],
   "source": [
    "rounds = []\n",
    "score = 0\n",
    "with open(\"sample.txt\") as source:\n",
    "    for line in source:\n",
    "        line = line.strip(\"\\n\")\n",
    "        line = line.split()\n",
    "        rounds.append(line)\n",
    "\n",
    "for match in rounds:\n",
    "    if match[1] == \"X\":\n",
    "        score += 1\n",
    "        if match[0] == \"B\":\n",
    "            score += 6\n",
    "    if match[1] == \"Y\":\n",
    "        score+= 2\n",
    "        if match[0] == \"C\":\n",
    "            score += 6\n",
    "    if match[1] == \"Z\":\n",
    "        score += 3\n",
    "        if match[0] == \"B\":\n",
    "            score += 6\n",
    "\n",
    "print(score)\n",
    "            \n",
    "\n",
    "#a rock x\n",
    "#b paper y\n",
    "#c sissz"
   ]
  }
 ],
 "metadata": {
  "interpreter": {
   "hash": "aee8b7b246df8f9039afb4144a1f6fd8d2ca17a180786b69acc140d282b71a49"
  },
  "kernelspec": {
   "display_name": "Python 3.10.5 64-bit",
   "language": "python",
   "name": "python3"
  },
  "language_info": {
   "codemirror_mode": {
    "name": "ipython",
    "version": 3
   },
   "file_extension": ".py",
   "mimetype": "text/x-python",
   "name": "python",
   "nbconvert_exporter": "python",
   "pygments_lexer": "ipython3",
   "version": "3.10.5"
  },
  "orig_nbformat": 4
 },
 "nbformat": 4,
 "nbformat_minor": 2
}
